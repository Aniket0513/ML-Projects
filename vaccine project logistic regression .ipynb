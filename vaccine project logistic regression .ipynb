{
 "cells": [
  {
   "cell_type": "code",
   "execution_count": 1,
   "id": "28ffbea6",
   "metadata": {},
   "outputs": [],
   "source": [
    "#Let's start with importing necessary libraries\n",
    "\n",
    "import pandas as pd \n",
    "import numpy as np \n",
    "from sklearn.preprocessing import StandardScaler \n",
    "from sklearn.model_selection import train_test_split\n",
    "from sklearn.metrics import accuracy_score, confusion_matrix, roc_curve, roc_auc_score, precision_score\n",
    "import matplotlib.pyplot as plt\n",
    "import seaborn as sns\n",
    "import plotly.express as px\n",
    "\n",
    "import warnings\n",
    "warnings.filterwarnings('ignore')"
   ]
  },
  {
   "cell_type": "code",
   "execution_count": 2,
   "id": "e5e8ce48",
   "metadata": {},
   "outputs": [
    {
     "data": {
      "text/html": [
       "<div>\n",
       "<style scoped>\n",
       "    .dataframe tbody tr th:only-of-type {\n",
       "        vertical-align: middle;\n",
       "    }\n",
       "\n",
       "    .dataframe tbody tr th {\n",
       "        vertical-align: top;\n",
       "    }\n",
       "\n",
       "    .dataframe thead th {\n",
       "        text-align: right;\n",
       "    }\n",
       "</style>\n",
       "<table border=\"1\" class=\"dataframe\">\n",
       "  <thead>\n",
       "    <tr style=\"text-align: right;\">\n",
       "      <th></th>\n",
       "      <th>unique_id</th>\n",
       "      <th>h1n1_worry</th>\n",
       "      <th>h1n1_awareness</th>\n",
       "      <th>antiviral_medication</th>\n",
       "      <th>contact_avoidance</th>\n",
       "      <th>bought_face_mask</th>\n",
       "      <th>wash_hands_frequently</th>\n",
       "      <th>avoid_large_gatherings</th>\n",
       "      <th>reduced_outside_home_cont</th>\n",
       "      <th>avoid_touch_face</th>\n",
       "      <th>...</th>\n",
       "      <th>race</th>\n",
       "      <th>sex</th>\n",
       "      <th>income_level</th>\n",
       "      <th>marital_status</th>\n",
       "      <th>housing_status</th>\n",
       "      <th>employment</th>\n",
       "      <th>census_msa</th>\n",
       "      <th>no_of_adults</th>\n",
       "      <th>no_of_children</th>\n",
       "      <th>h1n1_vaccine</th>\n",
       "    </tr>\n",
       "  </thead>\n",
       "  <tbody>\n",
       "    <tr>\n",
       "      <th>0</th>\n",
       "      <td>0</td>\n",
       "      <td>1.0</td>\n",
       "      <td>0.0</td>\n",
       "      <td>0.0</td>\n",
       "      <td>0.0</td>\n",
       "      <td>0.0</td>\n",
       "      <td>0.0</td>\n",
       "      <td>0.0</td>\n",
       "      <td>1.0</td>\n",
       "      <td>1.0</td>\n",
       "      <td>...</td>\n",
       "      <td>White</td>\n",
       "      <td>Female</td>\n",
       "      <td>Below Poverty</td>\n",
       "      <td>Not Married</td>\n",
       "      <td>Own</td>\n",
       "      <td>Not in Labor Force</td>\n",
       "      <td>Non-MSA</td>\n",
       "      <td>0.0</td>\n",
       "      <td>0.0</td>\n",
       "      <td>0</td>\n",
       "    </tr>\n",
       "    <tr>\n",
       "      <th>1</th>\n",
       "      <td>1</td>\n",
       "      <td>3.0</td>\n",
       "      <td>2.0</td>\n",
       "      <td>0.0</td>\n",
       "      <td>1.0</td>\n",
       "      <td>0.0</td>\n",
       "      <td>1.0</td>\n",
       "      <td>0.0</td>\n",
       "      <td>1.0</td>\n",
       "      <td>1.0</td>\n",
       "      <td>...</td>\n",
       "      <td>White</td>\n",
       "      <td>Male</td>\n",
       "      <td>Below Poverty</td>\n",
       "      <td>Not Married</td>\n",
       "      <td>Rent</td>\n",
       "      <td>Employed</td>\n",
       "      <td>MSA, Not Principle  City</td>\n",
       "      <td>0.0</td>\n",
       "      <td>0.0</td>\n",
       "      <td>0</td>\n",
       "    </tr>\n",
       "    <tr>\n",
       "      <th>2</th>\n",
       "      <td>2</td>\n",
       "      <td>1.0</td>\n",
       "      <td>1.0</td>\n",
       "      <td>0.0</td>\n",
       "      <td>1.0</td>\n",
       "      <td>0.0</td>\n",
       "      <td>0.0</td>\n",
       "      <td>0.0</td>\n",
       "      <td>0.0</td>\n",
       "      <td>0.0</td>\n",
       "      <td>...</td>\n",
       "      <td>White</td>\n",
       "      <td>Male</td>\n",
       "      <td>&lt;= $75,000, Above Poverty</td>\n",
       "      <td>Not Married</td>\n",
       "      <td>Own</td>\n",
       "      <td>Employed</td>\n",
       "      <td>MSA, Not Principle  City</td>\n",
       "      <td>2.0</td>\n",
       "      <td>0.0</td>\n",
       "      <td>0</td>\n",
       "    </tr>\n",
       "    <tr>\n",
       "      <th>3</th>\n",
       "      <td>3</td>\n",
       "      <td>1.0</td>\n",
       "      <td>1.0</td>\n",
       "      <td>0.0</td>\n",
       "      <td>1.0</td>\n",
       "      <td>0.0</td>\n",
       "      <td>1.0</td>\n",
       "      <td>1.0</td>\n",
       "      <td>0.0</td>\n",
       "      <td>0.0</td>\n",
       "      <td>...</td>\n",
       "      <td>White</td>\n",
       "      <td>Female</td>\n",
       "      <td>Below Poverty</td>\n",
       "      <td>Not Married</td>\n",
       "      <td>Rent</td>\n",
       "      <td>Not in Labor Force</td>\n",
       "      <td>MSA, Principle City</td>\n",
       "      <td>0.0</td>\n",
       "      <td>0.0</td>\n",
       "      <td>0</td>\n",
       "    </tr>\n",
       "    <tr>\n",
       "      <th>4</th>\n",
       "      <td>4</td>\n",
       "      <td>2.0</td>\n",
       "      <td>1.0</td>\n",
       "      <td>0.0</td>\n",
       "      <td>1.0</td>\n",
       "      <td>0.0</td>\n",
       "      <td>1.0</td>\n",
       "      <td>1.0</td>\n",
       "      <td>0.0</td>\n",
       "      <td>1.0</td>\n",
       "      <td>...</td>\n",
       "      <td>White</td>\n",
       "      <td>Female</td>\n",
       "      <td>&lt;= $75,000, Above Poverty</td>\n",
       "      <td>Married</td>\n",
       "      <td>Own</td>\n",
       "      <td>Employed</td>\n",
       "      <td>MSA, Not Principle  City</td>\n",
       "      <td>1.0</td>\n",
       "      <td>0.0</td>\n",
       "      <td>0</td>\n",
       "    </tr>\n",
       "  </tbody>\n",
       "</table>\n",
       "<p>5 rows × 34 columns</p>\n",
       "</div>"
      ],
      "text/plain": [
       "   unique_id  h1n1_worry  h1n1_awareness  antiviral_medication  \\\n",
       "0          0         1.0             0.0                   0.0   \n",
       "1          1         3.0             2.0                   0.0   \n",
       "2          2         1.0             1.0                   0.0   \n",
       "3          3         1.0             1.0                   0.0   \n",
       "4          4         2.0             1.0                   0.0   \n",
       "\n",
       "   contact_avoidance  bought_face_mask  wash_hands_frequently  \\\n",
       "0                0.0               0.0                    0.0   \n",
       "1                1.0               0.0                    1.0   \n",
       "2                1.0               0.0                    0.0   \n",
       "3                1.0               0.0                    1.0   \n",
       "4                1.0               0.0                    1.0   \n",
       "\n",
       "   avoid_large_gatherings  reduced_outside_home_cont  avoid_touch_face  ...  \\\n",
       "0                     0.0                        1.0               1.0  ...   \n",
       "1                     0.0                        1.0               1.0  ...   \n",
       "2                     0.0                        0.0               0.0  ...   \n",
       "3                     1.0                        0.0               0.0  ...   \n",
       "4                     1.0                        0.0               1.0  ...   \n",
       "\n",
       "    race     sex               income_level  marital_status  housing_status  \\\n",
       "0  White  Female              Below Poverty     Not Married             Own   \n",
       "1  White    Male              Below Poverty     Not Married            Rent   \n",
       "2  White    Male  <= $75,000, Above Poverty     Not Married             Own   \n",
       "3  White  Female              Below Poverty     Not Married            Rent   \n",
       "4  White  Female  <= $75,000, Above Poverty         Married             Own   \n",
       "\n",
       "           employment                census_msa  no_of_adults  no_of_children  \\\n",
       "0  Not in Labor Force                   Non-MSA           0.0             0.0   \n",
       "1            Employed  MSA, Not Principle  City           0.0             0.0   \n",
       "2            Employed  MSA, Not Principle  City           2.0             0.0   \n",
       "3  Not in Labor Force       MSA, Principle City           0.0             0.0   \n",
       "4            Employed  MSA, Not Principle  City           1.0             0.0   \n",
       "\n",
       "   h1n1_vaccine  \n",
       "0             0  \n",
       "1             0  \n",
       "2             0  \n",
       "3             0  \n",
       "4             0  \n",
       "\n",
       "[5 rows x 34 columns]"
      ]
     },
     "execution_count": 2,
     "metadata": {},
     "output_type": "execute_result"
    }
   ],
   "source": [
    "data = pd.read_csv(\"vaccineprediction.csv\")\n",
    "data.head()"
   ]
  },
  {
   "cell_type": "code",
   "execution_count": 3,
   "id": "42c53d55",
   "metadata": {},
   "outputs": [
    {
     "data": {
      "text/plain": [
       "(26707, 34)"
      ]
     },
     "execution_count": 3,
     "metadata": {},
     "output_type": "execute_result"
    }
   ],
   "source": [
    "data.shape"
   ]
  },
  {
   "cell_type": "code",
   "execution_count": 4,
   "id": "2760d87e",
   "metadata": {},
   "outputs": [
    {
     "name": "stdout",
     "output_type": "stream",
     "text": [
      "<class 'pandas.core.frame.DataFrame'>\n",
      "RangeIndex: 26707 entries, 0 to 26706\n",
      "Data columns (total 34 columns):\n",
      " #   Column                     Non-Null Count  Dtype  \n",
      "---  ------                     --------------  -----  \n",
      " 0   unique_id                  26707 non-null  int64  \n",
      " 1   h1n1_worry                 26615 non-null  float64\n",
      " 2   h1n1_awareness             26591 non-null  float64\n",
      " 3   antiviral_medication       26636 non-null  float64\n",
      " 4   contact_avoidance          26499 non-null  float64\n",
      " 5   bought_face_mask           26688 non-null  float64\n",
      " 6   wash_hands_frequently      26665 non-null  float64\n",
      " 7   avoid_large_gatherings     26620 non-null  float64\n",
      " 8   reduced_outside_home_cont  26625 non-null  float64\n",
      " 9   avoid_touch_face           26579 non-null  float64\n",
      " 10  dr_recc_h1n1_vacc          24547 non-null  float64\n",
      " 11  dr_recc_seasonal_vacc      24547 non-null  float64\n",
      " 12  chronic_medic_condition    25736 non-null  float64\n",
      " 13  cont_child_undr_6_mnths    25887 non-null  float64\n",
      " 14  is_health_worker           25903 non-null  float64\n",
      " 15  has_health_insur           14433 non-null  float64\n",
      " 16  is_h1n1_vacc_effective     26316 non-null  float64\n",
      " 17  is_h1n1_risky              26319 non-null  float64\n",
      " 18  sick_from_h1n1_vacc        26312 non-null  float64\n",
      " 19  is_seas_vacc_effective     26245 non-null  float64\n",
      " 20  is_seas_risky              26193 non-null  float64\n",
      " 21  sick_from_seas_vacc        26170 non-null  float64\n",
      " 22  age_bracket                26707 non-null  object \n",
      " 23  qualification              25300 non-null  object \n",
      " 24  race                       26707 non-null  object \n",
      " 25  sex                        26707 non-null  object \n",
      " 26  income_level               22284 non-null  object \n",
      " 27  marital_status             25299 non-null  object \n",
      " 28  housing_status             24665 non-null  object \n",
      " 29  employment                 25244 non-null  object \n",
      " 30  census_msa                 26707 non-null  object \n",
      " 31  no_of_adults               26458 non-null  float64\n",
      " 32  no_of_children             26458 non-null  float64\n",
      " 33  h1n1_vaccine               26707 non-null  int64  \n",
      "dtypes: float64(23), int64(2), object(9)\n",
      "memory usage: 6.9+ MB\n"
     ]
    }
   ],
   "source": [
    "data.info()"
   ]
  },
  {
   "cell_type": "code",
   "execution_count": 5,
   "id": "6a00ebe1",
   "metadata": {},
   "outputs": [
    {
     "data": {
      "text/plain": [
       "unique_id                        0\n",
       "h1n1_worry                      92\n",
       "h1n1_awareness                 116\n",
       "antiviral_medication            71\n",
       "contact_avoidance              208\n",
       "bought_face_mask                19\n",
       "wash_hands_frequently           42\n",
       "avoid_large_gatherings          87\n",
       "reduced_outside_home_cont       82\n",
       "avoid_touch_face               128\n",
       "dr_recc_h1n1_vacc             2160\n",
       "dr_recc_seasonal_vacc         2160\n",
       "chronic_medic_condition        971\n",
       "cont_child_undr_6_mnths        820\n",
       "is_health_worker               804\n",
       "has_health_insur             12274\n",
       "is_h1n1_vacc_effective         391\n",
       "is_h1n1_risky                  388\n",
       "sick_from_h1n1_vacc            395\n",
       "is_seas_vacc_effective         462\n",
       "is_seas_risky                  514\n",
       "sick_from_seas_vacc            537\n",
       "age_bracket                      0\n",
       "qualification                 1407\n",
       "race                             0\n",
       "sex                              0\n",
       "income_level                  4423\n",
       "marital_status                1408\n",
       "housing_status                2042\n",
       "employment                    1463\n",
       "census_msa                       0\n",
       "no_of_adults                   249\n",
       "no_of_children                 249\n",
       "h1n1_vaccine                     0\n",
       "dtype: int64"
      ]
     },
     "execution_count": 5,
     "metadata": {},
     "output_type": "execute_result"
    }
   ],
   "source": [
    "data.isnull().sum()"
   ]
  },
  {
   "cell_type": "markdown",
   "id": "324c2364",
   "metadata": {},
   "source": [
    "##if the % of missing values are more than 70 % percent tan we need to drop the entire column otherwise we need to impute it "
   ]
  },
  {
   "cell_type": "markdown",
   "id": "6cc9be45",
   "metadata": {},
   "source": [
    "Explotatory data analyise "
   ]
  },
  {
   "cell_type": "code",
   "execution_count": 6,
   "id": "55169fbc",
   "metadata": {},
   "outputs": [
    {
     "data": {
      "image/png": "[encoded data removed]",
      "text/plain": [
       "<Figure size 640x480 with 1 Axes>"
      ]
     },
     "metadata": {},
     "output_type": "display_data"
    }
   ],
   "source": [
    "# Let's create a Pie-Chart to graphically represent the class distribution\n",
    "\n",
    "import plotly.graph_objects as go\n",
    "explode=[.0,.05]\n",
    "labels = [\"NO\",\"Yes\"]\n",
    "mycolors = [\"orange\",\"Green\"]\n",
    "sizes=data[\"h1n1_vaccine\"].value_counts().values\n",
    "plt.pie(sizes,explode=explode,labels= labels,colors=mycolors,autopct=\"%1.1f%%\")\n",
    "plt.show()"
   ]
  },
  {
   "cell_type": "markdown",
   "id": "a0e868cc",
   "metadata": {},
   "source": [
    "# based on my Hypothensis Race,marital status,housing status,Qualification ,sex,"
   ]
  },
  {
   "cell_type": "code",
   "execution_count": 7,
   "id": "03188166",
   "metadata": {},
   "outputs": [
    {
     "data": {
      "text/html": [
       "<div>\n",
       "<style scoped>\n",
       "    .dataframe tbody tr th:only-of-type {\n",
       "        vertical-align: middle;\n",
       "    }\n",
       "\n",
       "    .dataframe tbody tr th {\n",
       "        vertical-align: top;\n",
       "    }\n",
       "\n",
       "    .dataframe thead th {\n",
       "        text-align: right;\n",
       "    }\n",
       "</style>\n",
       "<table border=\"1\" class=\"dataframe\">\n",
       "  <thead>\n",
       "    <tr style=\"text-align: right;\">\n",
       "      <th></th>\n",
       "      <th>age_bracket</th>\n",
       "      <th>qualification</th>\n",
       "      <th>race</th>\n",
       "      <th>sex</th>\n",
       "      <th>income_level</th>\n",
       "      <th>marital_status</th>\n",
       "      <th>housing_status</th>\n",
       "      <th>employment</th>\n",
       "      <th>census_msa</th>\n",
       "    </tr>\n",
       "  </thead>\n",
       "  <tbody>\n",
       "    <tr>\n",
       "      <th>0</th>\n",
       "      <td>55 - 64 Years</td>\n",
       "      <td>&lt; 12 Years</td>\n",
       "      <td>White</td>\n",
       "      <td>Female</td>\n",
       "      <td>Below Poverty</td>\n",
       "      <td>Not Married</td>\n",
       "      <td>Own</td>\n",
       "      <td>Not in Labor Force</td>\n",
       "      <td>Non-MSA</td>\n",
       "    </tr>\n",
       "    <tr>\n",
       "      <th>1</th>\n",
       "      <td>35 - 44 Years</td>\n",
       "      <td>12 Years</td>\n",
       "      <td>White</td>\n",
       "      <td>Male</td>\n",
       "      <td>Below Poverty</td>\n",
       "      <td>Not Married</td>\n",
       "      <td>Rent</td>\n",
       "      <td>Employed</td>\n",
       "      <td>MSA, Not Principle  City</td>\n",
       "    </tr>\n",
       "    <tr>\n",
       "      <th>2</th>\n",
       "      <td>18 - 34 Years</td>\n",
       "      <td>College Graduate</td>\n",
       "      <td>White</td>\n",
       "      <td>Male</td>\n",
       "      <td>&lt;= $75,000, Above Poverty</td>\n",
       "      <td>Not Married</td>\n",
       "      <td>Own</td>\n",
       "      <td>Employed</td>\n",
       "      <td>MSA, Not Principle  City</td>\n",
       "    </tr>\n",
       "    <tr>\n",
       "      <th>3</th>\n",
       "      <td>65+ Years</td>\n",
       "      <td>12 Years</td>\n",
       "      <td>White</td>\n",
       "      <td>Female</td>\n",
       "      <td>Below Poverty</td>\n",
       "      <td>Not Married</td>\n",
       "      <td>Rent</td>\n",
       "      <td>Not in Labor Force</td>\n",
       "      <td>MSA, Principle City</td>\n",
       "    </tr>\n",
       "    <tr>\n",
       "      <th>4</th>\n",
       "      <td>45 - 54 Years</td>\n",
       "      <td>Some College</td>\n",
       "      <td>White</td>\n",
       "      <td>Female</td>\n",
       "      <td>&lt;= $75,000, Above Poverty</td>\n",
       "      <td>Married</td>\n",
       "      <td>Own</td>\n",
       "      <td>Employed</td>\n",
       "      <td>MSA, Not Principle  City</td>\n",
       "    </tr>\n",
       "    <tr>\n",
       "      <th>...</th>\n",
       "      <td>...</td>\n",
       "      <td>...</td>\n",
       "      <td>...</td>\n",
       "      <td>...</td>\n",
       "      <td>...</td>\n",
       "      <td>...</td>\n",
       "      <td>...</td>\n",
       "      <td>...</td>\n",
       "      <td>...</td>\n",
       "    </tr>\n",
       "    <tr>\n",
       "      <th>26702</th>\n",
       "      <td>65+ Years</td>\n",
       "      <td>Some College</td>\n",
       "      <td>White</td>\n",
       "      <td>Female</td>\n",
       "      <td>&lt;= $75,000, Above Poverty</td>\n",
       "      <td>Not Married</td>\n",
       "      <td>Own</td>\n",
       "      <td>Not in Labor Force</td>\n",
       "      <td>Non-MSA</td>\n",
       "    </tr>\n",
       "    <tr>\n",
       "      <th>26703</th>\n",
       "      <td>18 - 34 Years</td>\n",
       "      <td>College Graduate</td>\n",
       "      <td>White</td>\n",
       "      <td>Male</td>\n",
       "      <td>&lt;= $75,000, Above Poverty</td>\n",
       "      <td>Not Married</td>\n",
       "      <td>Rent</td>\n",
       "      <td>Employed</td>\n",
       "      <td>MSA, Principle City</td>\n",
       "    </tr>\n",
       "    <tr>\n",
       "      <th>26704</th>\n",
       "      <td>55 - 64 Years</td>\n",
       "      <td>Some College</td>\n",
       "      <td>White</td>\n",
       "      <td>Female</td>\n",
       "      <td>NaN</td>\n",
       "      <td>Not Married</td>\n",
       "      <td>Own</td>\n",
       "      <td>NaN</td>\n",
       "      <td>MSA, Not Principle  City</td>\n",
       "    </tr>\n",
       "    <tr>\n",
       "      <th>26705</th>\n",
       "      <td>18 - 34 Years</td>\n",
       "      <td>Some College</td>\n",
       "      <td>Hispanic</td>\n",
       "      <td>Female</td>\n",
       "      <td>&lt;= $75,000, Above Poverty</td>\n",
       "      <td>Married</td>\n",
       "      <td>Rent</td>\n",
       "      <td>Employed</td>\n",
       "      <td>Non-MSA</td>\n",
       "    </tr>\n",
       "    <tr>\n",
       "      <th>26706</th>\n",
       "      <td>65+ Years</td>\n",
       "      <td>Some College</td>\n",
       "      <td>White</td>\n",
       "      <td>Male</td>\n",
       "      <td>&lt;= $75,000, Above Poverty</td>\n",
       "      <td>Married</td>\n",
       "      <td>Own</td>\n",
       "      <td>Not in Labor Force</td>\n",
       "      <td>MSA, Principle City</td>\n",
       "    </tr>\n",
       "  </tbody>\n",
       "</table>\n",
       "<p>26707 rows × 9 columns</p>\n",
       "</div>"
      ],
      "text/plain": [
       "         age_bracket     qualification      race     sex  \\\n",
       "0      55 - 64 Years        < 12 Years     White  Female   \n",
       "1      35 - 44 Years          12 Years     White    Male   \n",
       "2      18 - 34 Years  College Graduate     White    Male   \n",
       "3          65+ Years          12 Years     White  Female   \n",
       "4      45 - 54 Years      Some College     White  Female   \n",
       "...              ...               ...       ...     ...   \n",
       "26702      65+ Years      Some College     White  Female   \n",
       "26703  18 - 34 Years  College Graduate     White    Male   \n",
       "26704  55 - 64 Years      Some College     White  Female   \n",
       "26705  18 - 34 Years      Some College  Hispanic  Female   \n",
       "26706      65+ Years      Some College     White    Male   \n",
       "\n",
       "                    income_level marital_status housing_status  \\\n",
       "0                  Below Poverty    Not Married            Own   \n",
       "1                  Below Poverty    Not Married           Rent   \n",
       "2      <= $75,000, Above Poverty    Not Married            Own   \n",
       "3                  Below Poverty    Not Married           Rent   \n",
       "4      <= $75,000, Above Poverty        Married            Own   \n",
       "...                          ...            ...            ...   \n",
       "26702  <= $75,000, Above Poverty    Not Married            Own   \n",
       "26703  <= $75,000, Above Poverty    Not Married           Rent   \n",
       "26704                        NaN    Not Married            Own   \n",
       "26705  <= $75,000, Above Poverty        Married           Rent   \n",
       "26706  <= $75,000, Above Poverty        Married            Own   \n",
       "\n",
       "               employment                census_msa  \n",
       "0      Not in Labor Force                   Non-MSA  \n",
       "1                Employed  MSA, Not Principle  City  \n",
       "2                Employed  MSA, Not Principle  City  \n",
       "3      Not in Labor Force       MSA, Principle City  \n",
       "4                Employed  MSA, Not Principle  City  \n",
       "...                   ...                       ...  \n",
       "26702  Not in Labor Force                   Non-MSA  \n",
       "26703            Employed       MSA, Principle City  \n",
       "26704                 NaN  MSA, Not Principle  City  \n",
       "26705            Employed                   Non-MSA  \n",
       "26706  Not in Labor Force       MSA, Principle City  \n",
       "\n",
       "[26707 rows x 9 columns]"
      ]
     },
     "execution_count": 7,
     "metadata": {},
     "output_type": "execute_result"
    }
   ],
   "source": [
    "##lets check the string values \n",
    "data_obj= data.select_dtypes(include=object)\n",
    "data_obj"
   ]
  },
  {
   "cell_type": "code",
   "execution_count": 8,
   "id": "cd713384",
   "metadata": {},
   "outputs": [
    {
     "data": {
      "text/plain": [
       "Index(['age_bracket', 'qualification', 'race', 'sex', 'income_level',\n",
       "       'marital_status', 'housing_status', 'employment', 'census_msa'],\n",
       "      dtype='object')"
      ]
     },
     "execution_count": 8,
     "metadata": {},
     "output_type": "execute_result"
    }
   ],
   "source": [
    "data_obj.columns"
   ]
  },
  {
   "cell_type": "code",
   "execution_count": 9,
   "id": "3a33e9c0",
   "metadata": {},
   "outputs": [],
   "source": [
    "## label Encding \n",
    "from sklearn.preprocessing import LabelEncoder\n",
    "le= LabelEncoder()\n",
    "cols=['age_bracket', 'qualification', 'race', 'sex', 'income_level','marital_status', 'housing_status', 'employment', 'census_msa']\n",
    "for i in cols:\n",
    "     data[i]=le.fit_transform(data[i])"
   ]
  },
  {
   "cell_type": "code",
   "execution_count": 10,
   "id": "7d2013a4",
   "metadata": {},
   "outputs": [
    {
     "data": {
      "text/html": [
       "<div>\n",
       "<style scoped>\n",
       "    .dataframe tbody tr th:only-of-type {\n",
       "        vertical-align: middle;\n",
       "    }\n",
       "\n",
       "    .dataframe tbody tr th {\n",
       "        vertical-align: top;\n",
       "    }\n",
       "\n",
       "    .dataframe thead th {\n",
       "        text-align: right;\n",
       "    }\n",
       "</style>\n",
       "<table border=\"1\" class=\"dataframe\">\n",
       "  <thead>\n",
       "    <tr style=\"text-align: right;\">\n",
       "      <th></th>\n",
       "      <th>unique_id</th>\n",
       "      <th>h1n1_worry</th>\n",
       "      <th>h1n1_awareness</th>\n",
       "      <th>antiviral_medication</th>\n",
       "      <th>contact_avoidance</th>\n",
       "      <th>bought_face_mask</th>\n",
       "      <th>wash_hands_frequently</th>\n",
       "      <th>avoid_large_gatherings</th>\n",
       "      <th>reduced_outside_home_cont</th>\n",
       "      <th>avoid_touch_face</th>\n",
       "      <th>...</th>\n",
       "      <th>race</th>\n",
       "      <th>sex</th>\n",
       "      <th>income_level</th>\n",
       "      <th>marital_status</th>\n",
       "      <th>housing_status</th>\n",
       "      <th>employment</th>\n",
       "      <th>census_msa</th>\n",
       "      <th>no_of_adults</th>\n",
       "      <th>no_of_children</th>\n",
       "      <th>h1n1_vaccine</th>\n",
       "    </tr>\n",
       "  </thead>\n",
       "  <tbody>\n",
       "    <tr>\n",
       "      <th>0</th>\n",
       "      <td>0</td>\n",
       "      <td>1.0</td>\n",
       "      <td>0.0</td>\n",
       "      <td>0.0</td>\n",
       "      <td>0.0</td>\n",
       "      <td>0.0</td>\n",
       "      <td>0.0</td>\n",
       "      <td>0.0</td>\n",
       "      <td>1.0</td>\n",
       "      <td>1.0</td>\n",
       "      <td>...</td>\n",
       "      <td>3</td>\n",
       "      <td>0</td>\n",
       "      <td>2</td>\n",
       "      <td>1</td>\n",
       "      <td>0</td>\n",
       "      <td>1</td>\n",
       "      <td>2</td>\n",
       "      <td>0.0</td>\n",
       "      <td>0.0</td>\n",
       "      <td>0</td>\n",
       "    </tr>\n",
       "    <tr>\n",
       "      <th>1</th>\n",
       "      <td>1</td>\n",
       "      <td>3.0</td>\n",
       "      <td>2.0</td>\n",
       "      <td>0.0</td>\n",
       "      <td>1.0</td>\n",
       "      <td>0.0</td>\n",
       "      <td>1.0</td>\n",
       "      <td>0.0</td>\n",
       "      <td>1.0</td>\n",
       "      <td>1.0</td>\n",
       "      <td>...</td>\n",
       "      <td>3</td>\n",
       "      <td>1</td>\n",
       "      <td>2</td>\n",
       "      <td>1</td>\n",
       "      <td>1</td>\n",
       "      <td>0</td>\n",
       "      <td>0</td>\n",
       "      <td>0.0</td>\n",
       "      <td>0.0</td>\n",
       "      <td>0</td>\n",
       "    </tr>\n",
       "    <tr>\n",
       "      <th>2</th>\n",
       "      <td>2</td>\n",
       "      <td>1.0</td>\n",
       "      <td>1.0</td>\n",
       "      <td>0.0</td>\n",
       "      <td>1.0</td>\n",
       "      <td>0.0</td>\n",
       "      <td>0.0</td>\n",
       "      <td>0.0</td>\n",
       "      <td>0.0</td>\n",
       "      <td>0.0</td>\n",
       "      <td>...</td>\n",
       "      <td>3</td>\n",
       "      <td>1</td>\n",
       "      <td>0</td>\n",
       "      <td>1</td>\n",
       "      <td>0</td>\n",
       "      <td>0</td>\n",
       "      <td>0</td>\n",
       "      <td>2.0</td>\n",
       "      <td>0.0</td>\n",
       "      <td>0</td>\n",
       "    </tr>\n",
       "    <tr>\n",
       "      <th>3</th>\n",
       "      <td>3</td>\n",
       "      <td>1.0</td>\n",
       "      <td>1.0</td>\n",
       "      <td>0.0</td>\n",
       "      <td>1.0</td>\n",
       "      <td>0.0</td>\n",
       "      <td>1.0</td>\n",
       "      <td>1.0</td>\n",
       "      <td>0.0</td>\n",
       "      <td>0.0</td>\n",
       "      <td>...</td>\n",
       "      <td>3</td>\n",
       "      <td>0</td>\n",
       "      <td>2</td>\n",
       "      <td>1</td>\n",
       "      <td>1</td>\n",
       "      <td>1</td>\n",
       "      <td>1</td>\n",
       "      <td>0.0</td>\n",
       "      <td>0.0</td>\n",
       "      <td>0</td>\n",
       "    </tr>\n",
       "    <tr>\n",
       "      <th>4</th>\n",
       "      <td>4</td>\n",
       "      <td>2.0</td>\n",
       "      <td>1.0</td>\n",
       "      <td>0.0</td>\n",
       "      <td>1.0</td>\n",
       "      <td>0.0</td>\n",
       "      <td>1.0</td>\n",
       "      <td>1.0</td>\n",
       "      <td>0.0</td>\n",
       "      <td>1.0</td>\n",
       "      <td>...</td>\n",
       "      <td>3</td>\n",
       "      <td>0</td>\n",
       "      <td>0</td>\n",
       "      <td>0</td>\n",
       "      <td>0</td>\n",
       "      <td>0</td>\n",
       "      <td>0</td>\n",
       "      <td>1.0</td>\n",
       "      <td>0.0</td>\n",
       "      <td>0</td>\n",
       "    </tr>\n",
       "  </tbody>\n",
       "</table>\n",
       "<p>5 rows × 34 columns</p>\n",
       "</div>"
      ],
      "text/plain": [
       "   unique_id  h1n1_worry  h1n1_awareness  antiviral_medication  \\\n",
       "0          0         1.0             0.0                   0.0   \n",
       "1          1         3.0             2.0                   0.0   \n",
       "2          2         1.0             1.0                   0.0   \n",
       "3          3         1.0             1.0                   0.0   \n",
       "4          4         2.0             1.0                   0.0   \n",
       "\n",
       "   contact_avoidance  bought_face_mask  wash_hands_frequently  \\\n",
       "0                0.0               0.0                    0.0   \n",
       "1                1.0               0.0                    1.0   \n",
       "2                1.0               0.0                    0.0   \n",
       "3                1.0               0.0                    1.0   \n",
       "4                1.0               0.0                    1.0   \n",
       "\n",
       "   avoid_large_gatherings  reduced_outside_home_cont  avoid_touch_face  ...  \\\n",
       "0                     0.0                        1.0               1.0  ...   \n",
       "1                     0.0                        1.0               1.0  ...   \n",
       "2                     0.0                        0.0               0.0  ...   \n",
       "3                     1.0                        0.0               0.0  ...   \n",
       "4                     1.0                        0.0               1.0  ...   \n",
       "\n",
       "   race  sex  income_level  marital_status  housing_status  employment  \\\n",
       "0     3    0             2               1               0           1   \n",
       "1     3    1             2               1               1           0   \n",
       "2     3    1             0               1               0           0   \n",
       "3     3    0             2               1               1           1   \n",
       "4     3    0             0               0               0           0   \n",
       "\n",
       "   census_msa  no_of_adults  no_of_children  h1n1_vaccine  \n",
       "0           2           0.0             0.0             0  \n",
       "1           0           0.0             0.0             0  \n",
       "2           0           2.0             0.0             0  \n",
       "3           1           0.0             0.0             0  \n",
       "4           0           1.0             0.0             0  \n",
       "\n",
       "[5 rows x 34 columns]"
      ]
     },
     "execution_count": 10,
     "metadata": {},
     "output_type": "execute_result"
    }
   ],
   "source": [
    "data.head()"
   ]
  },
  {
   "cell_type": "code",
   "execution_count": 11,
   "id": "bbc9787f",
   "metadata": {},
   "outputs": [],
   "source": [
    "## missing values treatment \n",
    "data['h1n1_worry'].fillna(data['h1n1_worry'].mode()[0], inplace = True)\n",
    "data['h1n1_awareness'].fillna(data['h1n1_awareness'].mode()[0], inplace = True)\n",
    "data['antiviral_medication'].fillna(data['antiviral_medication'].mode()[0], inplace = True)\n",
    "data['contact_avoidance'].fillna(data['contact_avoidance'].mode()[0], inplace = True)\n",
    "data['bought_face_mask'].fillna(data['bought_face_mask'].mode()[0], inplace = True)\n",
    "\n",
    "data['wash_hands_frequently'].fillna(data['wash_hands_frequently'].mode()[0], inplace = True)\n",
    "data['avoid_large_gatherings'].fillna(data['avoid_large_gatherings'].mode()[0], inplace = True)\n",
    "data['reduced_outside_home_cont'].fillna(data['reduced_outside_home_cont'].mode()[0], inplace = True)\n",
    "data['avoid_touch_face'].fillna(data['avoid_touch_face'].mode()[0], inplace = True)\n",
    "data['dr_recc_h1n1_vacc'].fillna(data['dr_recc_h1n1_vacc'].mode()[0], inplace = True)\n",
    "\n",
    "data['dr_recc_seasonal_vacc'].fillna(data['dr_recc_seasonal_vacc'].mode()[0], inplace = True)\n",
    "data['h1n1_awareness'].fillna(data['h1n1_awareness'].mode()[0], inplace = True)\n",
    "data['chronic_medic_condition'].fillna(data['chronic_medic_condition'].mode()[0], inplace = True)\n",
    "data['cont_child_undr_6_mnths'].fillna(data['cont_child_undr_6_mnths'].mode()[0], inplace = True)\n",
    "data['is_health_worker'].fillna(data['is_health_worker'].mode()[0], inplace = True)\n",
    "\n",
    "data['has_health_insur'].fillna(data['has_health_insur'].mode()[0], inplace = True)\n",
    "data['is_h1n1_vacc_effective'].fillna(data['is_h1n1_vacc_effective'].mode()[0], inplace = True)\n",
    "data['is_h1n1_risky'].fillna(data['is_h1n1_risky'].mode()[0], inplace = True)\n",
    "data['sick_from_h1n1_vacc'].fillna(data['sick_from_h1n1_vacc'].mode()[0], inplace = True)\n",
    "data['is_seas_vacc_effective'].fillna(data['is_seas_vacc_effective'].mode()[0], inplace = True)\n",
    "\n",
    "data['is_seas_risky'].fillna(data['is_seas_risky'].mode()[0], inplace = True)\n",
    "data['is_h1n1_vacc_effective'].fillna(data['is_h1n1_vacc_effective'].mode()[0], inplace = True)\n",
    "data['is_h1n1_risky'].fillna(data['is_h1n1_risky'].mode()[0], inplace = True)\n",
    "data['sick_from_h1n1_vacc'].fillna(data['sick_from_h1n1_vacc'].mode()[0], inplace = True)\n",
    "data['no_of_adults'].fillna(data['no_of_adults'].mode()[0], inplace = True)\n",
    "data['no_of_children'].fillna(data['no_of_children'].mode()[0], inplace = True)\n",
    "data['sick_from_seas_vacc'].fillna(data['sick_from_seas_vacc'].mode()[0], inplace = True)"
   ]
  },
  {
   "cell_type": "code",
   "execution_count": 12,
   "id": "e805e7cb",
   "metadata": {},
   "outputs": [
    {
     "data": {
      "text/plain": [
       "unique_id                    0\n",
       "h1n1_worry                   0\n",
       "h1n1_awareness               0\n",
       "antiviral_medication         0\n",
       "contact_avoidance            0\n",
       "bought_face_mask             0\n",
       "wash_hands_frequently        0\n",
       "avoid_large_gatherings       0\n",
       "reduced_outside_home_cont    0\n",
       "avoid_touch_face             0\n",
       "dr_recc_h1n1_vacc            0\n",
       "dr_recc_seasonal_vacc        0\n",
       "chronic_medic_condition      0\n",
       "cont_child_undr_6_mnths      0\n",
       "is_health_worker             0\n",
       "has_health_insur             0\n",
       "is_h1n1_vacc_effective       0\n",
       "is_h1n1_risky                0\n",
       "sick_from_h1n1_vacc          0\n",
       "is_seas_vacc_effective       0\n",
       "is_seas_risky                0\n",
       "sick_from_seas_vacc          0\n",
       "age_bracket                  0\n",
       "qualification                0\n",
       "race                         0\n",
       "sex                          0\n",
       "income_level                 0\n",
       "marital_status               0\n",
       "housing_status               0\n",
       "employment                   0\n",
       "census_msa                   0\n",
       "no_of_adults                 0\n",
       "no_of_children               0\n",
       "h1n1_vaccine                 0\n",
       "dtype: int64"
      ]
     },
     "execution_count": 12,
     "metadata": {},
     "output_type": "execute_result"
    }
   ],
   "source": [
    "data.isnull().sum()"
   ]
  },
  {
   "cell_type": "code",
   "execution_count": null,
   "id": "44d9ded6",
   "metadata": {},
   "outputs": [],
   "source": []
  },
  {
   "cell_type": "markdown",
   "id": "a656d6e0",
   "metadata": {},
   "source": [
    "all data  is now in 0 or 1"
   ]
  },
  {
   "cell_type": "code",
   "execution_count": 13,
   "id": "852b215b",
   "metadata": {},
   "outputs": [],
   "source": [
    "## CHECKING OUR HYPOTHESIS WITH CHI - SQUARE TEST"
   ]
  },
  {
   "cell_type": "code",
   "execution_count": 14,
   "id": "96b14fd1",
   "metadata": {},
   "outputs": [],
   "source": [
    "from sklearn.feature_selection import chi2\n",
    "\n"
   ]
  },
  {
   "cell_type": "code",
   "execution_count": 15,
   "id": "ba40b1f7",
   "metadata": {},
   "outputs": [],
   "source": [
    "x1 = data.drop(\"h1n1_vaccine\",axis=1)\n",
    "y1= data.h1n1_vaccine"
   ]
  },
  {
   "cell_type": "code",
   "execution_count": 16,
   "id": "c6588210",
   "metadata": {},
   "outputs": [
    {
     "data": {
      "text/plain": [
       "(array([1.27892347e+03, 2.01358892e+02, 1.11808117e+02, 4.11096977e+01,\n",
       "        1.59504077e+01, 1.23284462e+02, 2.58568639e+01, 5.61483986e+00,\n",
       "        8.64154522e+00, 4.30653783e+01, 3.30781019e+03, 8.92499456e+02,\n",
       "        1.72886102e+02, 1.09342915e+02, 6.72405011e+02, 3.04643931e+00,\n",
       "        4.95639893e+02, 1.91415123e+03, 1.15654361e+02, 2.43320341e+02,\n",
       "        1.22231992e+03, 2.01581768e+00, 4.37694949e+01, 1.24151591e+01,\n",
       "        1.49313640e+01, 6.77656778e+00, 5.19724564e+00, 4.50617033e+01,\n",
       "        2.79256058e+01, 1.27635738e+01, 3.83927863e-03, 9.07646362e-01,\n",
       "        2.84434376e-01]),\n",
       " array([4.30008095e-280, 1.05510630e-045, 3.93620890e-026, 1.43920477e-010,\n",
       "        6.50237709e-005, 1.20823440e-028, 3.67694855e-007, 1.78090085e-002,\n",
       "        3.28582623e-003, 5.29408499e-011, 0.00000000e+000, 4.19137320e-196,\n",
       "        1.73317808e-039, 1.36504702e-025, 2.99632034e-148, 8.09143610e-002,\n",
       "        8.44597327e-110, 0.00000000e+000, 5.65791678e-027, 7.42579815e-055,\n",
       "        8.60189894e-268, 1.55667387e-001, 3.69418347e-011, 4.25862729e-004,\n",
       "        1.11493915e-004, 9.23623255e-003, 2.26227078e-002, 1.90922833e-011,\n",
       "        1.26070338e-007, 3.53434968e-004, 9.50593163e-001, 3.40739680e-001,\n",
       "        5.93809390e-001]))"
      ]
     },
     "execution_count": 16,
     "metadata": {},
     "output_type": "execute_result"
    }
   ],
   "source": [
    "# return f score and p value\n",
    "f_score = chi2(x1,y1)\n",
    "f_score"
   ]
  },
  {
   "cell_type": "markdown",
   "id": "b35c82ec",
   "metadata": {},
   "source": [
    "Chi-Square (Test for Independance)\n",
    "Null Hypothesis: Variables are independent on each other\n",
    "Alternate Hypothesis: Variables are dependent on each other\n",
    "If p_value is <= 0.05 then we can reject the null hypothesis else we can accept the null hypothesis.\n",
    "#less than equal to we want reject one that are independent"
   ]
  },
  {
   "cell_type": "code",
   "execution_count": 17,
   "id": "986700d1",
   "metadata": {},
   "outputs": [
    {
     "data": {
      "text/plain": [
       "unique_id                    4.300081e-280\n",
       "h1n1_worry                    1.055106e-45\n",
       "h1n1_awareness                3.936209e-26\n",
       "antiviral_medication          1.439205e-10\n",
       "contact_avoidance             6.502377e-05\n",
       "bought_face_mask              1.208234e-28\n",
       "wash_hands_frequently         3.676949e-07\n",
       "avoid_large_gatherings        1.780901e-02\n",
       "reduced_outside_home_cont     3.285826e-03\n",
       "avoid_touch_face              5.294085e-11\n",
       "dr_recc_h1n1_vacc             0.000000e+00\n",
       "dr_recc_seasonal_vacc        4.191373e-196\n",
       "chronic_medic_condition       1.733178e-39\n",
       "cont_child_undr_6_mnths       1.365047e-25\n",
       "is_health_worker             2.996320e-148\n",
       "has_health_insur              8.091436e-02\n",
       "is_h1n1_vacc_effective       8.445973e-110\n",
       "is_h1n1_risky                 0.000000e+00\n",
       "sick_from_h1n1_vacc           5.657917e-27\n",
       "is_seas_vacc_effective        7.425798e-55\n",
       "is_seas_risky                8.601899e-268\n",
       "sick_from_seas_vacc           1.556674e-01\n",
       "age_bracket                   3.694183e-11\n",
       "qualification                 4.258627e-04\n",
       "race                          1.114939e-04\n",
       "sex                           9.236233e-03\n",
       "income_level                  2.262271e-02\n",
       "marital_status                1.909228e-11\n",
       "housing_status                1.260703e-07\n",
       "employment                    3.534350e-04\n",
       "census_msa                    9.505932e-01\n",
       "no_of_adults                  3.407397e-01\n",
       "no_of_children                5.938094e-01\n",
       "dtype: float64"
      ]
     },
     "execution_count": 17,
     "metadata": {},
     "output_type": "execute_result"
    }
   ],
   "source": [
    "p_values = pd.Series(f_score[1],index = x1.columns)\n",
    "p_values"
   ]
  },
  {
   "cell_type": "code",
   "execution_count": 18,
   "id": "3c80d8c4",
   "metadata": {},
   "outputs": [
    {
     "name": "stdout",
     "output_type": "stream",
     "text": [
      "unique_id -Reject the null hypothensis\n",
      "h1n1_worry -Reject the null hypothensis\n",
      "h1n1_awareness -Reject the null hypothensis\n",
      "antiviral_medication -Reject the null hypothensis\n",
      "contact_avoidance -Reject the null hypothensis\n",
      "bought_face_mask -Reject the null hypothensis\n",
      "wash_hands_frequently -Reject the null hypothensis\n",
      "avoid_large_gatherings -Reject the null hypothensis\n",
      "reduced_outside_home_cont -Reject the null hypothensis\n",
      "avoid_touch_face -Reject the null hypothensis\n",
      "dr_recc_h1n1_vacc -Reject the null hypothensis\n",
      "dr_recc_seasonal_vacc -Reject the null hypothensis\n",
      "chronic_medic_condition -Reject the null hypothensis\n",
      "cont_child_undr_6_mnths -Reject the null hypothensis\n",
      "is_health_worker -Reject the null hypothensis\n",
      "has_health_insur Accept the null hypothesis\n",
      "is_h1n1_vacc_effective -Reject the null hypothensis\n",
      "is_h1n1_risky -Reject the null hypothensis\n",
      "sick_from_h1n1_vacc -Reject the null hypothensis\n",
      "is_seas_vacc_effective -Reject the null hypothensis\n",
      "is_seas_risky -Reject the null hypothensis\n",
      "sick_from_seas_vacc Accept the null hypothesis\n",
      "age_bracket -Reject the null hypothensis\n",
      "qualification -Reject the null hypothensis\n",
      "race -Reject the null hypothensis\n",
      "sex -Reject the null hypothensis\n",
      "income_level -Reject the null hypothensis\n",
      "marital_status -Reject the null hypothensis\n",
      "housing_status -Reject the null hypothensis\n",
      "employment -Reject the null hypothensis\n",
      "census_msa Accept the null hypothesis\n",
      "no_of_adults Accept the null hypothesis\n",
      "no_of_children Accept the null hypothesis\n"
     ]
    },
    {
     "data": {
      "text/plain": [
       "['has_health_insur',\n",
       " 'sick_from_seas_vacc',\n",
       " 'census_msa',\n",
       " 'no_of_adults',\n",
       " 'no_of_children']"
      ]
     },
     "execution_count": 18,
     "metadata": {},
     "output_type": "execute_result"
    }
   ],
   "source": [
    "irr_cols =[]\n",
    "\n",
    "for x in p_values.index:\n",
    "    if p_values[x] <=0.05:\n",
    "        print(x,\"-Reject the null hypothensis\")\n",
    "    else:\n",
    "        print(x,\"Accept the null hypothesis\")\n",
    "        irr_cols.append(x)\n",
    "irr_cols        "
   ]
  },
  {
   "cell_type": "code",
   "execution_count": 19,
   "id": "89c63e32",
   "metadata": {},
   "outputs": [],
   "source": [
    "# drop the cols that not needed.\n",
    "data.drop('unique_id', axis = 1, inplace = True)\n",
    "data.drop('sick_from_seas_vacc', axis = 1, inplace = True)\n",
    "data.drop('census_msa', axis = 1, inplace = True)\n",
    "data.drop('has_health_insur', axis = 1, inplace = True)\n",
    "data.drop('no_of_adults', axis = 1, inplace = True)\n",
    "data.drop('no_of_children', axis = 1, inplace = True)"
   ]
  },
  {
   "cell_type": "code",
   "execution_count": 20,
   "id": "6e568ae9",
   "metadata": {},
   "outputs": [
    {
     "data": {
      "text/html": [
       "<div>\n",
       "<style scoped>\n",
       "    .dataframe tbody tr th:only-of-type {\n",
       "        vertical-align: middle;\n",
       "    }\n",
       "\n",
       "    .dataframe tbody tr th {\n",
       "        vertical-align: top;\n",
       "    }\n",
       "\n",
       "    .dataframe thead th {\n",
       "        text-align: right;\n",
       "    }\n",
       "</style>\n",
       "<table border=\"1\" class=\"dataframe\">\n",
       "  <thead>\n",
       "    <tr style=\"text-align: right;\">\n",
       "      <th></th>\n",
       "      <th>h1n1_worry</th>\n",
       "      <th>h1n1_awareness</th>\n",
       "      <th>antiviral_medication</th>\n",
       "      <th>contact_avoidance</th>\n",
       "      <th>bought_face_mask</th>\n",
       "      <th>wash_hands_frequently</th>\n",
       "      <th>avoid_large_gatherings</th>\n",
       "      <th>reduced_outside_home_cont</th>\n",
       "      <th>avoid_touch_face</th>\n",
       "      <th>dr_recc_h1n1_vacc</th>\n",
       "      <th>...</th>\n",
       "      <th>is_seas_risky</th>\n",
       "      <th>age_bracket</th>\n",
       "      <th>qualification</th>\n",
       "      <th>race</th>\n",
       "      <th>sex</th>\n",
       "      <th>income_level</th>\n",
       "      <th>marital_status</th>\n",
       "      <th>housing_status</th>\n",
       "      <th>employment</th>\n",
       "      <th>h1n1_vaccine</th>\n",
       "    </tr>\n",
       "  </thead>\n",
       "  <tbody>\n",
       "    <tr>\n",
       "      <th>0</th>\n",
       "      <td>1.0</td>\n",
       "      <td>0.0</td>\n",
       "      <td>0.0</td>\n",
       "      <td>0.0</td>\n",
       "      <td>0.0</td>\n",
       "      <td>0.0</td>\n",
       "      <td>0.0</td>\n",
       "      <td>1.0</td>\n",
       "      <td>1.0</td>\n",
       "      <td>0.0</td>\n",
       "      <td>...</td>\n",
       "      <td>1.0</td>\n",
       "      <td>3</td>\n",
       "      <td>1</td>\n",
       "      <td>3</td>\n",
       "      <td>0</td>\n",
       "      <td>2</td>\n",
       "      <td>1</td>\n",
       "      <td>0</td>\n",
       "      <td>1</td>\n",
       "      <td>0</td>\n",
       "    </tr>\n",
       "    <tr>\n",
       "      <th>1</th>\n",
       "      <td>3.0</td>\n",
       "      <td>2.0</td>\n",
       "      <td>0.0</td>\n",
       "      <td>1.0</td>\n",
       "      <td>0.0</td>\n",
       "      <td>1.0</td>\n",
       "      <td>0.0</td>\n",
       "      <td>1.0</td>\n",
       "      <td>1.0</td>\n",
       "      <td>0.0</td>\n",
       "      <td>...</td>\n",
       "      <td>2.0</td>\n",
       "      <td>1</td>\n",
       "      <td>0</td>\n",
       "      <td>3</td>\n",
       "      <td>1</td>\n",
       "      <td>2</td>\n",
       "      <td>1</td>\n",
       "      <td>1</td>\n",
       "      <td>0</td>\n",
       "      <td>0</td>\n",
       "    </tr>\n",
       "    <tr>\n",
       "      <th>2</th>\n",
       "      <td>1.0</td>\n",
       "      <td>1.0</td>\n",
       "      <td>0.0</td>\n",
       "      <td>1.0</td>\n",
       "      <td>0.0</td>\n",
       "      <td>0.0</td>\n",
       "      <td>0.0</td>\n",
       "      <td>0.0</td>\n",
       "      <td>0.0</td>\n",
       "      <td>0.0</td>\n",
       "      <td>...</td>\n",
       "      <td>1.0</td>\n",
       "      <td>0</td>\n",
       "      <td>2</td>\n",
       "      <td>3</td>\n",
       "      <td>1</td>\n",
       "      <td>0</td>\n",
       "      <td>1</td>\n",
       "      <td>0</td>\n",
       "      <td>0</td>\n",
       "      <td>0</td>\n",
       "    </tr>\n",
       "    <tr>\n",
       "      <th>3</th>\n",
       "      <td>1.0</td>\n",
       "      <td>1.0</td>\n",
       "      <td>0.0</td>\n",
       "      <td>1.0</td>\n",
       "      <td>0.0</td>\n",
       "      <td>1.0</td>\n",
       "      <td>1.0</td>\n",
       "      <td>0.0</td>\n",
       "      <td>0.0</td>\n",
       "      <td>0.0</td>\n",
       "      <td>...</td>\n",
       "      <td>4.0</td>\n",
       "      <td>4</td>\n",
       "      <td>0</td>\n",
       "      <td>3</td>\n",
       "      <td>0</td>\n",
       "      <td>2</td>\n",
       "      <td>1</td>\n",
       "      <td>1</td>\n",
       "      <td>1</td>\n",
       "      <td>0</td>\n",
       "    </tr>\n",
       "    <tr>\n",
       "      <th>4</th>\n",
       "      <td>2.0</td>\n",
       "      <td>1.0</td>\n",
       "      <td>0.0</td>\n",
       "      <td>1.0</td>\n",
       "      <td>0.0</td>\n",
       "      <td>1.0</td>\n",
       "      <td>1.0</td>\n",
       "      <td>0.0</td>\n",
       "      <td>1.0</td>\n",
       "      <td>0.0</td>\n",
       "      <td>...</td>\n",
       "      <td>1.0</td>\n",
       "      <td>2</td>\n",
       "      <td>3</td>\n",
       "      <td>3</td>\n",
       "      <td>0</td>\n",
       "      <td>0</td>\n",
       "      <td>0</td>\n",
       "      <td>0</td>\n",
       "      <td>0</td>\n",
       "      <td>0</td>\n",
       "    </tr>\n",
       "  </tbody>\n",
       "</table>\n",
       "<p>5 rows × 28 columns</p>\n",
       "</div>"
      ],
      "text/plain": [
       "   h1n1_worry  h1n1_awareness  antiviral_medication  contact_avoidance  \\\n",
       "0         1.0             0.0                   0.0                0.0   \n",
       "1         3.0             2.0                   0.0                1.0   \n",
       "2         1.0             1.0                   0.0                1.0   \n",
       "3         1.0             1.0                   0.0                1.0   \n",
       "4         2.0             1.0                   0.0                1.0   \n",
       "\n",
       "   bought_face_mask  wash_hands_frequently  avoid_large_gatherings  \\\n",
       "0               0.0                    0.0                     0.0   \n",
       "1               0.0                    1.0                     0.0   \n",
       "2               0.0                    0.0                     0.0   \n",
       "3               0.0                    1.0                     1.0   \n",
       "4               0.0                    1.0                     1.0   \n",
       "\n",
       "   reduced_outside_home_cont  avoid_touch_face  dr_recc_h1n1_vacc  ...  \\\n",
       "0                        1.0               1.0                0.0  ...   \n",
       "1                        1.0               1.0                0.0  ...   \n",
       "2                        0.0               0.0                0.0  ...   \n",
       "3                        0.0               0.0                0.0  ...   \n",
       "4                        0.0               1.0                0.0  ...   \n",
       "\n",
       "   is_seas_risky  age_bracket  qualification  race  sex  income_level  \\\n",
       "0            1.0            3              1     3    0             2   \n",
       "1            2.0            1              0     3    1             2   \n",
       "2            1.0            0              2     3    1             0   \n",
       "3            4.0            4              0     3    0             2   \n",
       "4            1.0            2              3     3    0             0   \n",
       "\n",
       "   marital_status  housing_status  employment  h1n1_vaccine  \n",
       "0               1               0           1             0  \n",
       "1               1               1           0             0  \n",
       "2               1               0           0             0  \n",
       "3               1               1           1             0  \n",
       "4               0               0           0             0  \n",
       "\n",
       "[5 rows x 28 columns]"
      ]
     },
     "execution_count": 20,
     "metadata": {},
     "output_type": "execute_result"
    }
   ],
   "source": [
    "data.head()"
   ]
  },
  {
   "cell_type": "markdown",
   "id": "af38ddbe",
   "metadata": {},
   "source": [
    "## Analyizing the Data using Bi - Variable Analysis"
   ]
  },
  {
   "cell_type": "code",
   "execution_count": 21,
   "id": "4dcb73c2",
   "metadata": {},
   "outputs": [
    {
     "data": {
      "text/plain": [
       "<Axes: xlabel='wash_hands_frequently', ylabel='count'>"
      ]
     },
     "execution_count": 21,
     "metadata": {},
     "output_type": "execute_result"
    },
    {
     "data": {
      "image/png": "[encoded data removed]",
      "text/plain": [
       "<Figure size 4000x3000 with 6 Axes>"
      ]
     },
     "metadata": {},
     "output_type": "display_data"
    }
   ],
   "source": [
    "## lets analyse the impact of each of the above variable on the target variable \n",
    "\n",
    "fig,ax = plt.subplots(2,3,figsize=(40,30))\n",
    "\n",
    "sns.countplot(x='h1n1_worry',hue='h1n1_vaccine',data=data,ax=ax[0][0])\n",
    "sns.countplot(x='h1n1_awareness',hue='h1n1_vaccine',data=data,ax=ax[0][1])\n",
    "sns.countplot(x='antiviral_medication',hue='h1n1_vaccine',data=data,ax=ax[0][2])\n",
    "sns.countplot(x='contact_avoidance',hue='h1n1_vaccine',data=data,ax=ax[1][0])\n",
    "sns.countplot(x='bought_face_mask',hue='h1n1_vaccine',data=data,ax=ax[1][1])\n",
    "sns.countplot(x='wash_hands_frequently',hue='h1n1_vaccine',data=data,ax=ax[1][2])"
   ]
  },
  {
   "cell_type": "code",
   "execution_count": 22,
   "id": "c8d8885f",
   "metadata": {},
   "outputs": [
    {
     "data": {
      "text/plain": [
       "<Axes: xlabel='antiviral_medication', ylabel='count'>"
      ]
     },
     "execution_count": 22,
     "metadata": {},
     "output_type": "execute_result"
    },
    {
     "data": {
      "image/png": "[encoded data removed]",
      "text/plain": [
       "<Figure size 1400x700 with 1 Axes>"
      ]
     },
     "metadata": {},
     "output_type": "display_data"
    }
   ],
   "source": [
    "plt.figure(figsize =(14,7))\n",
    "sns.countplot(x=\"antiviral_medication\",hue=\"h1n1_vaccine\",data = data)"
   ]
  },
  {
   "cell_type": "code",
   "execution_count": 23,
   "id": "f694686c",
   "metadata": {},
   "outputs": [],
   "source": [
    "x = data.drop(columns = [\"h1n1_vaccine\"])\n",
    "y = data[\"h1n1_vaccine\"]"
   ]
  },
  {
   "cell_type": "code",
   "execution_count": 24,
   "id": "92b54280",
   "metadata": {},
   "outputs": [],
   "source": [
    "#Train Test split\n",
    "x_train,x_test,y_train,y_test = train_test_split(x,y,test_size =0.20,random_state = 20)"
   ]
  },
  {
   "cell_type": "code",
   "execution_count": 25,
   "id": "34fca55c",
   "metadata": {},
   "outputs": [
    {
     "data": {
      "text/plain": [
       "((21365, 27), (5342, 27), (21365,), (21365,))"
      ]
     },
     "execution_count": 25,
     "metadata": {},
     "output_type": "execute_result"
    }
   ],
   "source": [
    "x_train.shape,x_test.shape,y_train.shape,y_train.shape"
   ]
  },
  {
   "cell_type": "code",
   "execution_count": 26,
   "id": "7ca158d1",
   "metadata": {},
   "outputs": [
    {
     "data": {
      "text/html": [
       "<style>#sk-container-id-1 {color: black;background-color: white;}#sk-container-id-1 pre{padding: 0;}#sk-container-id-1 div.sk-toggleable {background-color: white;}#sk-container-id-1 label.sk-toggleable__label {cursor: pointer;display: block;width: 100%;margin-bottom: 0;padding: 0.3em;box-sizing: border-box;text-align: center;}#sk-container-id-1 label.sk-toggleable__label-arrow:before {content: \"▸\";float: left;margin-right: 0.25em;color: #696969;}#sk-container-id-1 label.sk-toggleable__label-arrow:hover:before {color: black;}#sk-container-id-1 div.sk-estimator:hover label.sk-toggleable__label-arrow:before {color: black;}#sk-container-id-1 div.sk-toggleable__content {max-height: 0;max-width: 0;overflow: hidden;text-align: left;background-color: #f0f8ff;}#sk-container-id-1 div.sk-toggleable__content pre {margin: 0.2em;color: black;border-radius: 0.25em;background-color: #f0f8ff;}#sk-container-id-1 input.sk-toggleable__control:checked~div.sk-toggleable__content {max-height: 200px;max-width: 100%;overflow: auto;}#sk-container-id-1 input.sk-toggleable__control:checked~label.sk-toggleable__label-arrow:before {content: \"▾\";}#sk-container-id-1 div.sk-estimator input.sk-toggleable__control:checked~label.sk-toggleable__label {background-color: #d4ebff;}#sk-container-id-1 div.sk-label input.sk-toggleable__control:checked~label.sk-toggleable__label {background-color: #d4ebff;}#sk-container-id-1 input.sk-hidden--visually {border: 0;clip: rect(1px 1px 1px 1px);clip: rect(1px, 1px, 1px, 1px);height: 1px;margin: -1px;overflow: hidden;padding: 0;position: absolute;width: 1px;}#sk-container-id-1 div.sk-estimator {font-family: monospace;background-color: #f0f8ff;border: 1px dotted black;border-radius: 0.25em;box-sizing: border-box;margin-bottom: 0.5em;}#sk-container-id-1 div.sk-estimator:hover {background-color: #d4ebff;}#sk-container-id-1 div.sk-parallel-item::after {content: \"\";width: 100%;border-bottom: 1px solid gray;flex-grow: 1;}#sk-container-id-1 div.sk-label:hover label.sk-toggleable__label {background-color: #d4ebff;}#sk-container-id-1 div.sk-serial::before {content: \"\";position: absolute;border-left: 1px solid gray;box-sizing: border-box;top: 0;bottom: 0;left: 50%;z-index: 0;}#sk-container-id-1 div.sk-serial {display: flex;flex-direction: column;align-items: center;background-color: white;padding-right: 0.2em;padding-left: 0.2em;position: relative;}#sk-container-id-1 div.sk-item {position: relative;z-index: 1;}#sk-container-id-1 div.sk-parallel {display: flex;align-items: stretch;justify-content: center;background-color: white;position: relative;}#sk-container-id-1 div.sk-item::before, #sk-container-id-1 div.sk-parallel-item::before {content: \"\";position: absolute;border-left: 1px solid gray;box-sizing: border-box;top: 0;bottom: 0;left: 50%;z-index: -1;}#sk-container-id-1 div.sk-parallel-item {display: flex;flex-direction: column;z-index: 1;position: relative;background-color: white;}#sk-container-id-1 div.sk-parallel-item:first-child::after {align-self: flex-end;width: 50%;}#sk-container-id-1 div.sk-parallel-item:last-child::after {align-self: flex-start;width: 50%;}#sk-container-id-1 div.sk-parallel-item:only-child::after {width: 0;}#sk-container-id-1 div.sk-dashed-wrapped {border: 1px dashed gray;margin: 0 0.4em 0.5em 0.4em;box-sizing: border-box;padding-bottom: 0.4em;background-color: white;}#sk-container-id-1 div.sk-label label {font-family: monospace;font-weight: bold;display: inline-block;line-height: 1.2em;}#sk-container-id-1 div.sk-label-container {text-align: center;}#sk-container-id-1 div.sk-container {/* jupyter's `normalize.less` sets `[hidden] { display: none; }` but bootstrap.min.css set `[hidden] { display: none !important; }` so we also need the `!important` here to be able to override the default hidden behavior on the sphinx rendered scikit-learn.org. See: https://github.com/scikit-learn/scikit-learn/issues/21755 */display: inline-block !important;position: relative;}#sk-container-id-1 div.sk-text-repr-fallback {display: none;}</style><div id=\"sk-container-id-1\" class=\"sk-top-container\"><div class=\"sk-text-repr-fallback\"><pre>LogisticRegression()</pre><b>In a Jupyter environment, please rerun this cell to show the HTML representation or trust the notebook. <br />On GitHub, the HTML representation is unable to render, please try loading this page with nbviewer.org.</b></div><div class=\"sk-container\" hidden><div class=\"sk-item\"><div class=\"sk-estimator sk-toggleable\"><input class=\"sk-toggleable__control sk-hidden--visually\" id=\"sk-estimator-id-1\" type=\"checkbox\" checked><label for=\"sk-estimator-id-1\" class=\"sk-toggleable__label sk-toggleable__label-arrow\">LogisticRegression</label><div class=\"sk-toggleable__content\"><pre>LogisticRegression()</pre></div></div></div></div></div>"
      ],
      "text/plain": [
       "LogisticRegression()"
      ]
     },
     "execution_count": 26,
     "metadata": {},
     "output_type": "execute_result"
    }
   ],
   "source": [
    "## Build logistic model \n",
    "from sklearn.linear_model import LogisticRegression\n",
    "log_reg = LogisticRegression()\n",
    "log_reg.fit(x_train,y_train)"
   ]
  },
  {
   "cell_type": "code",
   "execution_count": 27,
   "id": "d5ff4cff",
   "metadata": {},
   "outputs": [],
   "source": [
    "## Making a prediction \n",
    "pred = log_reg.predict(x_test)"
   ]
  },
  {
   "cell_type": "code",
   "execution_count": 36,
   "id": "8d892760",
   "metadata": {},
   "outputs": [
    {
     "name": "stdout",
     "output_type": "stream",
     "text": [
      "Accuracy score 0.7623847104687649\n",
      "F1_score 0.7564564857226391\n",
      "AUC score 0.7622377686870055\n"
     ]
    }
   ],
   "source": [
    "### Evaluation\n",
    "\n",
    "from sklearn.metrics import accuracy_score,confusion_matrix, roc_auc_score,f1_score\n",
    "\n",
    "print('Accuracy score', accuracy_score(y_test,pred))\n",
    "print('F1_score', f1_score(y_test,pred))\n",
    "print('AUC score', roc_auc_score(y_test,pred))"
   ]
  },
  {
   "cell_type": "code",
   "execution_count": 29,
   "id": "e0030ce1",
   "metadata": {},
   "outputs": [
    {
     "data": {
      "image/png": "[encoded data removed]",
      "text/plain": [
       "<Figure size 1200x900 with 2 Axes>"
      ]
     },
     "metadata": {},
     "output_type": "display_data"
    }
   ],
   "source": [
    "# Confusion Matrix\n",
    "\n",
    "cm = confusion_matrix(y_test,pred)\n",
    "\n",
    "plt.figure(figsize = (12,9))\n",
    "sns.heatmap(cm,annot = True, fmt = 'd')\n",
    "plt.xlabel('Predicted')\n",
    "plt.ylabel('Truth')\n",
    "\n",
    "plt.show()\n"
   ]
  },
  {
   "cell_type": "markdown",
   "id": "1bae3fdb",
   "metadata": {},
   "source": [
    "## Balancing the Data using SMOTE"
   ]
  },
  {
   "cell_type": "code",
   "execution_count": 30,
   "id": "73e598ac",
   "metadata": {},
   "outputs": [],
   "source": [
    "from imblearn.over_sampling import SMOTE\n",
    "\n",
    "sm = SMOTE(random_state = 23)\n",
    "x_sm,y_sm= sm.fit_resample(x,y)"
   ]
  },
  {
   "cell_type": "code",
   "execution_count": 35,
   "id": "5b8b318d",
   "metadata": {},
   "outputs": [],
   "source": [
    "from sklearn.model_selection import train_test_split\n",
    "\n",
    "x_train, x_test, y_train, y_test = train_test_split(x_sm, y_sm, test_size = 0.25, random_state = 23)"
   ]
  },
  {
   "cell_type": "code",
   "execution_count": 32,
   "id": "b3ac8289",
   "metadata": {},
   "outputs": [
    {
     "data": {
      "text/html": [
       "<style>#sk-container-id-2 {color: black;background-color: white;}#sk-container-id-2 pre{padding: 0;}#sk-container-id-2 div.sk-toggleable {background-color: white;}#sk-container-id-2 label.sk-toggleable__label {cursor: pointer;display: block;width: 100%;margin-bottom: 0;padding: 0.3em;box-sizing: border-box;text-align: center;}#sk-container-id-2 label.sk-toggleable__label-arrow:before {content: \"▸\";float: left;margin-right: 0.25em;color: #696969;}#sk-container-id-2 label.sk-toggleable__label-arrow:hover:before {color: black;}#sk-container-id-2 div.sk-estimator:hover label.sk-toggleable__label-arrow:before {color: black;}#sk-container-id-2 div.sk-toggleable__content {max-height: 0;max-width: 0;overflow: hidden;text-align: left;background-color: #f0f8ff;}#sk-container-id-2 div.sk-toggleable__content pre {margin: 0.2em;color: black;border-radius: 0.25em;background-color: #f0f8ff;}#sk-container-id-2 input.sk-toggleable__control:checked~div.sk-toggleable__content {max-height: 200px;max-width: 100%;overflow: auto;}#sk-container-id-2 input.sk-toggleable__control:checked~label.sk-toggleable__label-arrow:before {content: \"▾\";}#sk-container-id-2 div.sk-estimator input.sk-toggleable__control:checked~label.sk-toggleable__label {background-color: #d4ebff;}#sk-container-id-2 div.sk-label input.sk-toggleable__control:checked~label.sk-toggleable__label {background-color: #d4ebff;}#sk-container-id-2 input.sk-hidden--visually {border: 0;clip: rect(1px 1px 1px 1px);clip: rect(1px, 1px, 1px, 1px);height: 1px;margin: -1px;overflow: hidden;padding: 0;position: absolute;width: 1px;}#sk-container-id-2 div.sk-estimator {font-family: monospace;background-color: #f0f8ff;border: 1px dotted black;border-radius: 0.25em;box-sizing: border-box;margin-bottom: 0.5em;}#sk-container-id-2 div.sk-estimator:hover {background-color: #d4ebff;}#sk-container-id-2 div.sk-parallel-item::after {content: \"\";width: 100%;border-bottom: 1px solid gray;flex-grow: 1;}#sk-container-id-2 div.sk-label:hover label.sk-toggleable__label {background-color: #d4ebff;}#sk-container-id-2 div.sk-serial::before {content: \"\";position: absolute;border-left: 1px solid gray;box-sizing: border-box;top: 0;bottom: 0;left: 50%;z-index: 0;}#sk-container-id-2 div.sk-serial {display: flex;flex-direction: column;align-items: center;background-color: white;padding-right: 0.2em;padding-left: 0.2em;position: relative;}#sk-container-id-2 div.sk-item {position: relative;z-index: 1;}#sk-container-id-2 div.sk-parallel {display: flex;align-items: stretch;justify-content: center;background-color: white;position: relative;}#sk-container-id-2 div.sk-item::before, #sk-container-id-2 div.sk-parallel-item::before {content: \"\";position: absolute;border-left: 1px solid gray;box-sizing: border-box;top: 0;bottom: 0;left: 50%;z-index: -1;}#sk-container-id-2 div.sk-parallel-item {display: flex;flex-direction: column;z-index: 1;position: relative;background-color: white;}#sk-container-id-2 div.sk-parallel-item:first-child::after {align-self: flex-end;width: 50%;}#sk-container-id-2 div.sk-parallel-item:last-child::after {align-self: flex-start;width: 50%;}#sk-container-id-2 div.sk-parallel-item:only-child::after {width: 0;}#sk-container-id-2 div.sk-dashed-wrapped {border: 1px dashed gray;margin: 0 0.4em 0.5em 0.4em;box-sizing: border-box;padding-bottom: 0.4em;background-color: white;}#sk-container-id-2 div.sk-label label {font-family: monospace;font-weight: bold;display: inline-block;line-height: 1.2em;}#sk-container-id-2 div.sk-label-container {text-align: center;}#sk-container-id-2 div.sk-container {/* jupyter's `normalize.less` sets `[hidden] { display: none; }` but bootstrap.min.css set `[hidden] { display: none !important; }` so we also need the `!important` here to be able to override the default hidden behavior on the sphinx rendered scikit-learn.org. See: https://github.com/scikit-learn/scikit-learn/issues/21755 */display: inline-block !important;position: relative;}#sk-container-id-2 div.sk-text-repr-fallback {display: none;}</style><div id=\"sk-container-id-2\" class=\"sk-top-container\"><div class=\"sk-text-repr-fallback\"><pre>LogisticRegression()</pre><b>In a Jupyter environment, please rerun this cell to show the HTML representation or trust the notebook. <br />On GitHub, the HTML representation is unable to render, please try loading this page with nbviewer.org.</b></div><div class=\"sk-container\" hidden><div class=\"sk-item\"><div class=\"sk-estimator sk-toggleable\"><input class=\"sk-toggleable__control sk-hidden--visually\" id=\"sk-estimator-id-2\" type=\"checkbox\" checked><label for=\"sk-estimator-id-2\" class=\"sk-toggleable__label sk-toggleable__label-arrow\">LogisticRegression</label><div class=\"sk-toggleable__content\"><pre>LogisticRegression()</pre></div></div></div></div></div>"
      ],
      "text/plain": [
       "LogisticRegression()"
      ]
     },
     "execution_count": 32,
     "metadata": {},
     "output_type": "execute_result"
    }
   ],
   "source": [
    "model = LogisticRegression()\n",
    "model.fit(x_train, y_train)"
   ]
  },
  {
   "cell_type": "code",
   "execution_count": 33,
   "id": "c2f8abf7",
   "metadata": {},
   "outputs": [],
   "source": [
    "# making predection on test data\n",
    "pred =model.predict(x_test)"
   ]
  },
  {
   "cell_type": "code",
   "execution_count": 34,
   "id": "63ccba35",
   "metadata": {
    "scrolled": true
   },
   "outputs": [
    {
     "name": "stdout",
     "output_type": "stream",
     "text": [
      "Accuracy score 0.7623847104687649\n",
      "F1_score 0.7564564857226391\n",
      "AUC score 0.7622377686870055\n"
     ]
    }
   ],
   "source": [
    "# Evaluation\n",
    "\n",
    "from sklearn.metrics import accuracy_score,confusion_matrix, roc_auc_score,f1_score\n",
    "\n",
    "print('Accuracy score', accuracy_score(y_test,pred))\n",
    "print('F1_score', f1_score(y_test,pred))\n",
    "print('AUC score', roc_auc_score(y_test,pred))"
   ]
  },
  {
   "cell_type": "code",
   "execution_count": null,
   "id": "0705216e",
   "metadata": {},
   "outputs": [],
   "source": []
  },
  {
   "cell_type": "code",
   "execution_count": null,
   "id": "56a1e86e",
   "metadata": {},
   "outputs": [],
   "source": []
  }
 ],
 "metadata": {
  "kernelspec": {
   "display_name": "Python 3 (ipykernel)",
   "language": "python",
   "name": "python3"
  },
  "language_info": {
   "codemirror_mode": {
    "name": "ipython",
    "version": 3
   },
   "file_extension": ".py",
   "mimetype": "text/x-python",
   "name": "python",
   "nbconvert_exporter": "python",
   "pygments_lexer": "ipython3",
   "version": "3.11.4"
  }
 },
 "nbformat": 4,
 "nbformat_minor": 5
}
